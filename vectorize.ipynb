{
 "cells": [
  {
   "cell_type": "code",
   "execution_count": 1,
   "id": "8d3b9b31",
   "metadata": {},
   "outputs": [],
   "source": [
    "from nltk.stem import PorterStemmer\n",
    "from collections import Counter\n",
    "from typing import Dict, List\n",
    "import numpy as np\n",
    "import pandas as pd\n",
    "from collections import defaultdict\n",
    "from tqdm import tqdm"
   ]
  },
  {
   "cell_type": "code",
   "execution_count": 2,
   "id": "c05d4bde",
   "metadata": {},
   "outputs": [
    {
     "name": "stderr",
     "output_type": "stream",
     "text": [
      "Processing emails: 100%|██████████| 33107/33107 [00:02<00:00, 16190.74it/s]\n"
     ]
    }
   ],
   "source": [
    "df = pd.read_csv('./data/enron_spam_data.csv')\n",
    "df.dropna(inplace=True)\n",
    "\n",
    "folders = ['ham', 'spam']\n",
    "\n",
    "emails = []\n",
    "labels = []\n",
    "\n",
    "ps = PorterStemmer()\n",
    "\n",
    "for index, row in tqdm(df.iterrows(), total=len(df), desc=\"Processing emails\"):\n",
    "    words = row['Message'].split()\n",
    "    email = Counter(words)\n",
    "    \n",
    "    emails.append(email)\n",
    "    labels.append(1 if row['Spam/Ham'] == 'spam' else 0)"
   ]
  },
  {
   "cell_type": "code",
   "execution_count": 11,
   "id": "8eee077c",
   "metadata": {},
   "outputs": [
    {
     "name": "stderr",
     "output_type": "stream",
     "text": [
      "Calculating Info Gain: 100%|██████████| 42957/42957 [00:06<00:00, 6688.59it/s]\n",
      "Vectorizing emails: 100%|██████████| 33107/33107 [00:44<00:00, 742.09it/s] \n"
     ]
    },
    {
     "name": "stdout",
     "output_type": "stream",
     "text": [
      "Saving Outputs\n"
     ]
    }
   ],
   "source": [
    "\n",
    "class Vectorizer:\n",
    "    def __init__(self, dictionaries: List[Dict[str, int]], labels: List[int]):\n",
    "        # Step 1: Count in how many messages each word appears\n",
    "        token_doc_count = defaultdict(int)\n",
    "        for d in dictionaries:\n",
    "            for word in d.keys():\n",
    "                token_doc_count[word] += 1\n",
    "\n",
    "        # Step 2: Only include tokens that appear in at least 5 messages\n",
    "        candidate_tokens = [word for word, count in token_doc_count.items() if count >= 5]\n",
    "        \n",
    "        self.word_means = {}\n",
    "        for word in candidate_tokens:\n",
    "            self.word_means[word] = token_doc_count[word] / len(dictionaries)\n",
    "\n",
    "        self.vocab = {}\n",
    "        \n",
    "        # Step 3: Rank the tokens by their information gain\n",
    "        N = len(labels)\n",
    "        label_array = np.array(labels)\n",
    "        p_pos = np.mean(label_array)\n",
    "        p_neg = 1 - p_pos\n",
    "\n",
    "        def entropy(p):\n",
    "            return -p * np.log2(p) if p > 0 else 0\n",
    "\n",
    "        base_entropy = entropy(p_pos) + entropy(p_neg)\n",
    "\n",
    "        # Build document-term matrix for fast access (binary presence)\n",
    "        dtm = {word: np.zeros(N, dtype=bool) for word in candidate_tokens}\n",
    "        for i, doc in enumerate(dictionaries):\n",
    "            for word in doc.keys():\n",
    "                if word in dtm:\n",
    "                    dtm[word][i] = True\n",
    "\n",
    "        info_gains = {}\n",
    "        for word in tqdm(candidate_tokens, desc=\"Calculating Info Gain\"):\n",
    "            present = dtm[word]\n",
    "            absent = ~present\n",
    "\n",
    "            n_present = np.sum(present)\n",
    "            n_absent = N - n_present\n",
    "\n",
    "            if n_present == 0 or n_absent == 0:\n",
    "                info_gains[word] = 0\n",
    "                continue\n",
    "\n",
    "            p_pos_given_present = np.mean(label_array[present]) if n_present > 0 else 0\n",
    "            p_pos_given_absent = np.mean(label_array[absent]) if n_absent > 0 else 0\n",
    "\n",
    "            H_present = entropy(p_pos_given_present) + entropy(1 - p_pos_given_present)\n",
    "            H_absent = entropy(p_pos_given_absent) + entropy(1 - p_pos_given_absent)\n",
    "\n",
    "            cond_entropy = (n_present / N) * H_present + (n_absent / N) * H_absent\n",
    "            info_gain = base_entropy - cond_entropy\n",
    "            info_gains[word] = info_gain\n",
    "\n",
    "        # Sort and assign vocab\n",
    "        sorted_tokens = sorted(info_gains.items(), key=lambda x: -x[1])\n",
    "        for i, (word, _) in enumerate(sorted_tokens):\n",
    "            self.vocab[word] = i\n",
    "        \n",
    "    def transform(self, X: Dict[str, int]) -> np.ndarray:\n",
    "        vec = np.empty(len(self.vocab), dtype=float)\n",
    "        \n",
    "        total_number_of_tokens = sum(X.values())\n",
    "        \n",
    "        for word, count in X.items():\n",
    "            if word in self.vocab:\n",
    "                # term frequency vectorization\n",
    "                # vec[self.vocab[word]] = count\n",
    "                \n",
    "                # boolean vectorization\n",
    "                # vec[self.vocab[word]] = 1\n",
    "                \n",
    "                # normalized term frequency vectorization\n",
    "                # vec[self.vocab[word]] = count / total_number_of_tokens\n",
    "                \n",
    "                # standardized term frequency\n",
    "                if np.std(self.word_means[word]) != 0:\n",
    "                    vec[self.vocab[word]] = (count - self.word_means[word]) / np.std(self.word_means[word])\n",
    "                else:\n",
    "                    vec[self.vocab[word]] = 0  # If std is 0, set to 0 to maintain zero mean\n",
    "        return vec\n",
    "\n",
    "# Instantiate the vectorizer\n",
    "vectorizer = Vectorizer(emails, labels)\n",
    "\n",
    "# Track progress while transforming emails\n",
    "X = np.array([vectorizer.transform(email) for email in tqdm(emails, desc=\"Vectorizing emails\")])\n",
    "Y = np.array(labels)\n",
    "\n",
    "print(\"Saving Outputs\")"
   ]
  },
  {
   "cell_type": "code",
   "execution_count": 14,
   "id": "24abc35a",
   "metadata": {},
   "outputs": [],
   "source": [
    "np.save('X.npy', X)\n",
    "np.save('Y.npy', Y)"
   ]
  }
 ],
 "metadata": {
  "kernelspec": {
   "display_name": "Python 3",
   "language": "python",
   "name": "python3"
  },
  "language_info": {
   "codemirror_mode": {
    "name": "ipython",
    "version": 3
   },
   "file_extension": ".py",
   "mimetype": "text/x-python",
   "name": "python",
   "nbconvert_exporter": "python",
   "pygments_lexer": "ipython3",
   "version": "3.12.3"
  }
 },
 "nbformat": 4,
 "nbformat_minor": 5
}
